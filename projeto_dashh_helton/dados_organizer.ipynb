{
 "cells": [
  {
   "cell_type": "code",
   "execution_count": 1,
   "metadata": {},
   "outputs": [],
   "source": [
    "import pandas as pd\n",
    "import mysql.connector\n",
    "from mysql.connector.errors import Error"
   ]
  },
  {
   "cell_type": "code",
   "execution_count": 2,
   "metadata": {},
   "outputs": [],
   "source": [
    "dados = pd.read_csv('dados/dados_pontos_selecionados.csv').drop_duplicates(subset='old_circuit_id', keep='first').dropna(subset=['new_circuit_id'])"
   ]
  },
  {
   "cell_type": "code",
   "execution_count": null,
   "metadata": {},
   "outputs": [],
   "source": [
    "vdp = pd.read_csv('C:\\\\Users\\\\kmenezes\\\\OneDrive - Viasat, Inc\\\\Recorrente\\\\acesso_vdp\\\\dados\\\\dados_vdp_nov_21.csv')[['sai', 'idu_device_model', 'root_product_name', 'location', 'mac_address']]\n",
    "vdp = pd.concat([vdp.drop('location',axis=1), vdp['location'].apply(lambda x: eval(str(x))).apply(pd.Series)], axis=1)\n",
    "vdp['region'] = vdp['region'].fillna(vdp['sai'].apply(lambda x: x[:2]))\n",
    "vdp.drop(columns=['country', 'country_code', 'postal_code'], inplace=True)\n",
    "vdp.columns = ['new_circuit_id', 'modem', 'plan', 'mac_address', 'city', 'latitude', 'longitude', 'state']\n",
    "vdp['mac_address'] = vdp['mac_address'].str.replace(':','').str.upper()"
   ]
  },
  {
   "cell_type": "code",
   "execution_count": null,
   "metadata": {},
   "outputs": [],
   "source": [
    "host = \"45.224.130.174\"\n",
    "port = \"9773\"\n",
    "user = \"karl_menezes\"\n",
    "password = \"vK2Tr09Psz\"\n",
    "database = \"crm-producao\"\n",
    "\n",
    "connection = mysql.connector.connect(\n",
    "    host= host,     \n",
    "    database= database,  \n",
    "    user= user,   \n",
    "    password= password,\n",
    "    port = port  \n",
    ")"
   ]
  },
  {
   "cell_type": "code",
   "execution_count": null,
   "metadata": {},
   "outputs": [],
   "source": [
    "lista = tuple(dados['new_circuit_id'])\n",
    "\n",
    "sql_query = f''' SELECT\n",
    "    accounts.circuit_id,\n",
    "    accounts.email,\n",
    "    accounts.phone_number_1\n",
    "FROM \n",
    "    accounts\n",
    "WHERE\n",
    "    accounts.circuit_id IN {lista}\n",
    "'''\n",
    "\n",
    "df = pd.read_sql_query(sql_query, connection).drop_duplicates(subset='circuit_id', keep='last')\n"
   ]
  },
  {
   "cell_type": "code",
   "execution_count": null,
   "metadata": {},
   "outputs": [],
   "source": [
    "dados = dados.merge(vdp, on='new_circuit_id', how='left')"
   ]
  },
  {
   "cell_type": "code",
   "execution_count": null,
   "metadata": {},
   "outputs": [],
   "source": [
    "dados.to_csv('dados_pontos_selecionados.csv', index=False)"
   ]
  },
  {
   "cell_type": "code",
   "execution_count": null,
   "metadata": {},
   "outputs": [],
   "source": [
    "grace = pd.read_csv('C:\\\\Users\\\\kmenezes\\\\OneDrive - Viasat, Inc\\\\Recorrente\\\\novo_grace\\\\sistema 3.0\\\\verificacao/adfasf.csv')"
   ]
  },
  {
   "cell_type": "code",
   "execution_count": 15,
   "metadata": {},
   "outputs": [],
   "source": [
    "d1 = grace.sort_values('completed_date').drop_duplicates(subset='terminal_id', keep='last')[['terminal_id', 'completed_date']]\n",
    "d1.columns = ['terminal_id', 'created_at']\n",
    "d1['terminated_at'] = pd.to_datetime(d1['created_at']) + pd.DateOffset(months=60)"
   ]
  },
  {
   "cell_type": "code",
   "execution_count": 21,
   "metadata": {},
   "outputs": [],
   "source": [
    "dados.merge(grace[['old_circuit_id', 'terminal_id']].merge(d1, on='terminal_id', how='left'), on = 'old_circuit_id', how='left').to_csv('dados/dados_pontos_selecionados.csv', index=False)"
   ]
  },
  {
   "cell_type": "code",
   "execution_count": 3,
   "metadata": {},
   "outputs": [],
   "source": [
    "usage = pd.read_csv('dados/oct_hourly_use.csv')"
   ]
  },
  {
   "cell_type": "code",
   "execution_count": null,
   "metadata": {},
   "outputs": [
    {
     "data": {
      "text/plain": [
       "0         2024-10-11 06:00:00\n",
       "1         2024-10-11 06:00:00\n",
       "2         2024-10-11 06:00:00\n",
       "3         2024-10-10 04:00:00\n",
       "4         2024-10-10 04:00:00\n",
       "                  ...        \n",
       "3262569   2024-07-07 02:00:00\n",
       "3262570   2024-07-17 17:00:00\n",
       "3262571   2024-11-11 11:00:00\n",
       "3262572   2024-07-23 02:00:00\n",
       "3262573   2024-09-15 11:00:00\n",
       "Length: 3262574, dtype: datetime64[ns]"
      ]
     },
     "execution_count": 37,
     "metadata": {},
     "output_type": "execute_result"
    }
   ],
   "source": [
    "a1 = usage.groupby(['date']).agg({'Total':'sum'}).reset_index()\n",
    "a1['Total'] = a1['Total'] / 1024 ** 4\n",
    "\n",
    "fig2 = px.bar(a1, x='date', y='TBytes', title = 'Consumo de dados por dia do mês', color_discrete_sequence= [c1])\n",
    "\n",
    "#fig.add_vline(x=37, line_width=3, line_dash=\"dash\", line_color=c2)\n",
    "\n",
    "\n",
    "fig2.update_xaxes(showgrid=True,  tickangle = 45)\n",
    "\n",
    "\n",
    "fig2.update_layout(xaxis_title = 'Semana do Ano', yaxis_title = 'Consumo (TBytes)', legend_title = 'Detalhe')"
   ]
  },
  {
   "cell_type": "code",
   "execution_count": 8,
   "metadata": {},
   "outputs": [
    {
     "data": {
      "text/html": [
       "<div>\n",
       "<style scoped>\n",
       "    .dataframe tbody tr th:only-of-type {\n",
       "        vertical-align: middle;\n",
       "    }\n",
       "\n",
       "    .dataframe tbody tr th {\n",
       "        vertical-align: top;\n",
       "    }\n",
       "\n",
       "    .dataframe thead th {\n",
       "        text-align: right;\n",
       "    }\n",
       "</style>\n",
       "<table border=\"1\" class=\"dataframe\">\n",
       "  <thead>\n",
       "    <tr style=\"text-align: right;\">\n",
       "      <th></th>\n",
       "      <th>year</th>\n",
       "      <th>month</th>\n",
       "      <th>day</th>\n",
       "      <th>hour</th>\n",
       "      <th>mac_address</th>\n",
       "      <th>incomingBytes</th>\n",
       "      <th>outgoingBytes</th>\n",
       "    </tr>\n",
       "  </thead>\n",
       "  <tbody>\n",
       "    <tr>\n",
       "      <th>0</th>\n",
       "      <td>2024</td>\n",
       "      <td>10</td>\n",
       "      <td>11</td>\n",
       "      <td>6</td>\n",
       "      <td>00A0BC556C90</td>\n",
       "      <td>68829985</td>\n",
       "      <td>2158510</td>\n",
       "    </tr>\n",
       "    <tr>\n",
       "      <th>1</th>\n",
       "      <td>2024</td>\n",
       "      <td>10</td>\n",
       "      <td>11</td>\n",
       "      <td>6</td>\n",
       "      <td>00A0BC33A38E</td>\n",
       "      <td>1801</td>\n",
       "      <td>968</td>\n",
       "    </tr>\n",
       "    <tr>\n",
       "      <th>2</th>\n",
       "      <td>2024</td>\n",
       "      <td>10</td>\n",
       "      <td>11</td>\n",
       "      <td>6</td>\n",
       "      <td>00A0BC459BBF</td>\n",
       "      <td>30047882</td>\n",
       "      <td>1773984</td>\n",
       "    </tr>\n",
       "    <tr>\n",
       "      <th>3</th>\n",
       "      <td>2024</td>\n",
       "      <td>10</td>\n",
       "      <td>10</td>\n",
       "      <td>4</td>\n",
       "      <td>00A0BC8E3AE0</td>\n",
       "      <td>95325038</td>\n",
       "      <td>9825723</td>\n",
       "    </tr>\n",
       "    <tr>\n",
       "      <th>4</th>\n",
       "      <td>2024</td>\n",
       "      <td>10</td>\n",
       "      <td>10</td>\n",
       "      <td>4</td>\n",
       "      <td>00A0BC9414D0</td>\n",
       "      <td>118009</td>\n",
       "      <td>716033</td>\n",
       "    </tr>\n",
       "    <tr>\n",
       "      <th>...</th>\n",
       "      <td>...</td>\n",
       "      <td>...</td>\n",
       "      <td>...</td>\n",
       "      <td>...</td>\n",
       "      <td>...</td>\n",
       "      <td>...</td>\n",
       "      <td>...</td>\n",
       "    </tr>\n",
       "    <tr>\n",
       "      <th>411930</th>\n",
       "      <td>2024</td>\n",
       "      <td>10</td>\n",
       "      <td>3</td>\n",
       "      <td>19</td>\n",
       "      <td>00A0BCA8BBC4</td>\n",
       "      <td>288</td>\n",
       "      <td>80</td>\n",
       "    </tr>\n",
       "    <tr>\n",
       "      <th>411931</th>\n",
       "      <td>2024</td>\n",
       "      <td>10</td>\n",
       "      <td>9</td>\n",
       "      <td>1</td>\n",
       "      <td>00A0BC9422F4</td>\n",
       "      <td>24793</td>\n",
       "      <td>1848816</td>\n",
       "    </tr>\n",
       "    <tr>\n",
       "      <th>411932</th>\n",
       "      <td>2024</td>\n",
       "      <td>10</td>\n",
       "      <td>8</td>\n",
       "      <td>13</td>\n",
       "      <td>00A0BC4EC344</td>\n",
       "      <td>328</td>\n",
       "      <td>0</td>\n",
       "    </tr>\n",
       "    <tr>\n",
       "      <th>411933</th>\n",
       "      <td>2024</td>\n",
       "      <td>10</td>\n",
       "      <td>11</td>\n",
       "      <td>20</td>\n",
       "      <td>00A0BCBE5F3C</td>\n",
       "      <td>0</td>\n",
       "      <td>0</td>\n",
       "    </tr>\n",
       "    <tr>\n",
       "      <th>411934</th>\n",
       "      <td>2024</td>\n",
       "      <td>10</td>\n",
       "      <td>26</td>\n",
       "      <td>2</td>\n",
       "      <td>00A0BCBAFB34</td>\n",
       "      <td>5945</td>\n",
       "      <td>1856</td>\n",
       "    </tr>\n",
       "  </tbody>\n",
       "</table>\n",
       "<p>411935 rows × 7 columns</p>\n",
       "</div>"
      ],
      "text/plain": [
       "        year  month  day  hour   mac_address  incomingBytes  outgoingBytes\n",
       "0       2024     10   11     6  00A0BC556C90       68829985        2158510\n",
       "1       2024     10   11     6  00A0BC33A38E           1801            968\n",
       "2       2024     10   11     6  00A0BC459BBF       30047882        1773984\n",
       "3       2024     10   10     4  00A0BC8E3AE0       95325038        9825723\n",
       "4       2024     10   10     4  00A0BC9414D0         118009         716033\n",
       "...      ...    ...  ...   ...           ...            ...            ...\n",
       "411930  2024     10    3    19  00A0BCA8BBC4            288             80\n",
       "411931  2024     10    9     1  00A0BC9422F4          24793        1848816\n",
       "411932  2024     10    8    13  00A0BC4EC344            328              0\n",
       "411933  2024     10   11    20  00A0BCBE5F3C              0              0\n",
       "411934  2024     10   26     2  00A0BCBAFB34           5945           1856\n",
       "\n",
       "[411935 rows x 7 columns]"
      ]
     },
     "execution_count": 8,
     "metadata": {},
     "output_type": "execute_result"
    }
   ],
   "source": [
    "usage"
   ]
  },
  {
   "cell_type": "code",
   "execution_count": 33,
   "metadata": {},
   "outputs": [],
   "source": [
    "usage[usage['month'] == 10].to_csv('dados/oct_hourly_use.csv', index=False)"
   ]
  },
  {
   "cell_type": "code",
   "execution_count": 34,
   "metadata": {},
   "outputs": [],
   "source": [
    "apps = pd.read_csv('dados/apps_use.csv')"
   ]
  },
  {
   "cell_type": "code",
   "execution_count": 35,
   "metadata": {},
   "outputs": [],
   "source": [
    "apps[apps['month'] == 10].to_csv('dados/oct_apps_use.csv', index=False)"
   ]
  }
 ],
 "metadata": {
  "kernelspec": {
   "display_name": "Python 3",
   "language": "python",
   "name": "python3"
  },
  "language_info": {
   "codemirror_mode": {
    "name": "ipython",
    "version": 3
   },
   "file_extension": ".py",
   "mimetype": "text/x-python",
   "name": "python",
   "nbconvert_exporter": "python",
   "pygments_lexer": "ipython3",
   "version": "3.13.0"
  }
 },
 "nbformat": 4,
 "nbformat_minor": 2
}
